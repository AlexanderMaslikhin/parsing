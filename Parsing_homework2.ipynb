{
  "nbformat": 4,
  "nbformat_minor": 0,
  "metadata": {
    "colab": {
      "provenance": [],
      "authorship_tag": "ABX9TyOol50MuKPec45IbE/WG4fD",
      "include_colab_link": true
    },
    "kernelspec": {
      "name": "python3",
      "display_name": "Python 3"
    },
    "language_info": {
      "name": "python"
    }
  },
  "cells": [
    {
      "cell_type": "markdown",
      "metadata": {
        "id": "view-in-github",
        "colab_type": "text"
      },
      "source": [
        "<a href=\"https://colab.research.google.com/github/AlexanderMaslikhin/parsing/blob/homework2/Parsing_homework2.ipynb\" target=\"_parent\"><img src=\"https://colab.research.google.com/assets/colab-badge.svg\" alt=\"Open In Colab\"/></a>"
      ]
    },
    {
      "cell_type": "markdown",
      "source": [
        "#### Написать приложение и функцию, которые собирают основные новости с сайта на выбор dzen.ru, lenta.ru, mail.ru . Для парсинга использовать XPath\n",
        "Структура данных должна содержать:\n",
        "* название источника\n",
        "* наименование новости\n",
        "* ссылку на новость\n",
        "* дата публикации\n",
        "\n",
        "минимум один сайт максимум все"
      ],
      "metadata": {
        "id": "NFOY4rZs-UCH"
      }
    },
    {
      "cell_type": "code",
      "execution_count": 8,
      "metadata": {
        "id": "qfppAWsP-AFK",
        "colab": {
          "base_uri": "https://localhost:8080/"
        },
        "outputId": "f49a4d5f-e647-4b08-8b84-93e84a89bc5f"
      },
      "outputs": [
        {
          "output_type": "stream",
          "name": "stdout",
          "text": [
            "{'Американцы задолжали банкам почти триллион долларов': {'news_date': '15:29',\n",
            "                                                         'news_link': 'https://lenta.ru/news/2023/02/17/dlg/'},\n",
            " 'В World Athletics высказались об условиях для возвращения россиян на турниры': {'news_date': '15:24',\n",
            "                                                                                  'news_link': 'https://lenta.ru/news/2023/02/17/athletics/'},\n",
            " 'В России задумались над пересмотром лимита бесплатных переводов через СБП': {'news_date': '15:37',\n",
            "                                                                               'news_link': 'https://lenta.ru/news/2023/02/17/sbpsbp/'},\n",
            " 'Генсек НАТО назвал поставки оружия Украине условием мира': {'news_date': '15:22',\n",
            "                                                              'news_link': 'https://lenta.ru/news/2023/02/17/989887/'},\n",
            " 'МИД России отреагировал на обвинения Нидерландов касательно рейса MH17': {'news_date': '15:28',\n",
            "                                                                            'news_link': 'https://lenta.ru/news/2023/02/17/mh17_mid/'},\n",
            " 'МИД раскритиковал Италию за отмену выступлений российских исполнителей': {'news_date': '15:28',\n",
            "                                                                            'news_link': 'https://lenta.ru/news/2023/02/17/miditalia/'},\n",
            " 'Мать изрезавшей одноклассницу девочки нашла оправдание поступку дочери': {'news_date': '15:31',\n",
            "                                                                            'news_link': 'https://moslenta.ru/news/city/mat-izrezavshei-odnoklassnicu-devochki-17-02-2023.htm/'},\n",
            " 'Медведев прокомментировал слова Зеленского о переговорах отсылкой к Пелевину': {'news_date': '15:25',\n",
            "                                                                                  'news_link': 'https://lenta.ru/news/2023/02/17/pelevin/'},\n",
            " 'Минобороны России опубликовало карту боевых действий в зоне спецоперации': {'news_date': '15:19',\n",
            "                                                                              'news_link': 'https://lenta.ru/news/2023/02/17/karta1702/'},\n",
            " 'Путин оценил шапку Миллера словами «носите как Соловей-разбойник»': {'news_date': '14:28',\n",
            "                                                                       'news_link': 'https://lenta.ru/news/2023/02/17/solovey/'},\n",
            " 'Россиянка заперла собак и кошек в машине на трое суток': {'news_date': '15:36',\n",
            "                                                            'news_link': 'https://lenta.ru/news/2023/02/17/sobaki/'},\n",
            " 'Следователи назвали возможные причины крушения вертолета на Сахалине': {'news_date': '15:26',\n",
            "                                                                          'news_link': 'https://lenta.ru/news/2023/02/17/versiii/'}}\n",
            "{'«Адмиралтейские верфи» проверят данные о\\xa0незаконном арсенале': {'news_link': 'https://news.mail.ru/incident/55103133/'},\n",
            " 'В России начались испытания беспилотника ТрАМП': {'news_link': 'https://news.mail.ru/incident/55095856/'},\n",
            " 'В\\xa0Турции и\\xa0Сирии произошли землетрясения магнитудой более\\xa05': {'news_link': 'https://news.mail.ru/incident/55094939/'},\n",
            " 'Верховный суд запретил взыскивать долги с\\xa0наследников': {'news_link': 'https://news.mail.ru/society/55095737/'},\n",
            " 'Минобороны сообщило о\\xa0смене командующих четырех военных округов': {'news_link': 'https://news.mail.ru/politics/55103889/'},\n",
            " 'Рыбак из\\xa0Вирджинии поймал редчайшего золотого большеротого окуня': {'news_link': 'https://news.mail.ru/society/55102028/'},\n",
            " 'СМИ: Киев потерял почти всех боевых пилотов': {'news_link': 'https://news.mail.ru/incident/55096792/'},\n",
            " 'Фото: первые снимки затонувшего «Титаника» после крушения': {'news_link': 'https://news.mail.ru/society/55089153/'}}\n"
          ]
        }
      ],
      "source": [
        "from pprint import pprint\n",
        "from lxml import html\n",
        "import requests\n",
        "import json\n",
        "\n",
        "\n",
        "# Функция принимает параметры в виде словаря с полями для url\n",
        "# словарем для парсинга и базового пути к блоку новостей, так как они у всех\n",
        "# разные. Возвращает словарь с названием новости и параметрами, \n",
        "# если они есть(дата, источник, ссылка).\n",
        "# Сайт dzen.ru победить пока не удалось, он распознает парсинг и выкатывает страницу с \n",
        "# капчей. У сайта mail.ru новости в заголовке формируются динамически, скорее \n",
        "# всего с помощью JavaScript, поэтому спарсил news.mail.ru\n",
        "\n",
        "def parse_news(params):\n",
        "  parse_dict = {key: val for key, val in params[\"parse_dict\"].items() if val is not None}\n",
        "\n",
        "  reply = requests.get(params[\"url\"], headers=params[\"headers\"])\n",
        "  dom = html.fromstring(reply.text)\n",
        "  news = dom.xpath(params[\"base_path\"])\n",
        "\n",
        "  result = {}\n",
        "  for element in news:\n",
        "    new_dict = {}\n",
        "    for key, req in parse_dict.items():\n",
        "      new_dict[key] = str(element.xpath(req)[0])\n",
        "    if new_dict['news_link'].startswith('/'):\n",
        "      new_dict['news_link'] = params[\"url\"] + new_dict['news_link']\n",
        "    result[new_dict['news_name']] = new_dict\n",
        "    del result[new_dict[\"news_name\"]][\"news_name\"]\n",
        "  return result   \n",
        "\n",
        "keys = (\"news_source\", \"news_name\", \"news_link\", \"news_date\")\n",
        "\n",
        "lenta_params = {\n",
        "    \"url\": \"https://lenta.ru\",\n",
        "    \"base_path\": \"//div[@class='topnews']/div/a\",\n",
        "    \"headers\": {\n",
        "        \"User-agent\": \"Mozilla/5.0 (Windows NT 10.0; Win64; x64) AppleWebKit/537.36 (KHTML, like Gecko) Chrome/109.0.0.0 Safari/537.36\",\n",
        "    },\n",
        "    \"parse_dict\": {\n",
        "        \"news_source\": None,\n",
        "        \"news_name\": \"./div/span[@class='card-mini__title']/text()\",\n",
        "        \"news_link\": \"./@href\",\n",
        "        \"news_date\": \"./div/div/time/text()\"\n",
        "    }   \n",
        "}\n",
        "\n",
        "mail_params = {\n",
        "    \"url\": \"https://news.mail.ru\",\n",
        "    \"base_path\": '//ul[@class=\"list list_type_square list_half js-module\"]/li',\n",
        "    \"headers\": {\n",
        "        \"User-agent\": \"Mozilla/5.0 (Windows NT 10.0; Win64; x64) AppleWebKit/537.36 (KHTML, like Gecko) Chrome/109.0.0.0 Safari/537.36\",\n",
        "    },\n",
        "    \"parse_dict\": {\n",
        "        \"news_source\": None,\n",
        "        \"news_name\": './span/a/text()',\n",
        "        \"news_link\": './span/a/@href',\n",
        "        \"news_date\": None\n",
        "    }       \n",
        "}\n",
        "\n",
        "res1 = parse_news(lenta_params)\n",
        "pprint(res1)\n",
        "res2 = parse_news(mail_params)\n",
        "pprint(res2)\n",
        "\n",
        "with open(\"lenta.json\", \"w\") as f:\n",
        "  json.dump(res1, f, ensure_ascii=False, indent=4)\n",
        "with open(\"mail-ru.json\", \"w\") as f:\n",
        "  json.dump(res2, f, ensure_ascii=False, indent=4)"
      ]
    },
    {
      "cell_type": "code",
      "source": [],
      "metadata": {
        "id": "pRX2dJ1rjjv3"
      },
      "execution_count": null,
      "outputs": []
    }
  ]
}