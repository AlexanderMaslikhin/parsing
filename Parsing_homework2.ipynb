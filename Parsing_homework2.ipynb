{
  "nbformat": 4,
  "nbformat_minor": 0,
  "metadata": {
    "colab": {
      "provenance": [],
      "authorship_tag": "ABX9TyMZ7rYPgSrDUsaG9IqDHZZm",
      "include_colab_link": true
    },
    "kernelspec": {
      "name": "python3",
      "display_name": "Python 3"
    },
    "language_info": {
      "name": "python"
    }
  },
  "cells": [
    {
      "cell_type": "markdown",
      "metadata": {
        "id": "view-in-github",
        "colab_type": "text"
      },
      "source": [
        "<a href=\"https://colab.research.google.com/github/AlexanderMaslikhin/parsing/blob/homework2/Parsing_homework2.ipynb\" target=\"_parent\"><img src=\"https://colab.research.google.com/assets/colab-badge.svg\" alt=\"Open In Colab\"/></a>"
      ]
    },
    {
      "cell_type": "markdown",
      "source": [
        "#### Написать приложение и функцию, которые собирают основные новости с сайта на выбор dzen.ru, lenta.ru, mail.ru . Для парсинга использовать XPath\n",
        "Структура данных должна содержать:\n",
        "* название источника\n",
        "* наименование новости\n",
        "* ссылку на новость\n",
        "* дата публикации\n",
        "\n",
        "минимум один сайт максимум все"
      ],
      "metadata": {
        "id": "NFOY4rZs-UCH"
      }
    },
    {
      "cell_type": "code",
      "execution_count": 95,
      "metadata": {
        "id": "qfppAWsP-AFK",
        "colab": {
          "base_uri": "https://localhost:8080/"
        },
        "outputId": "4c9a35aa-ff24-47bf-88de-0aacef229654"
      },
      "outputs": [
        {
          "output_type": "stream",
          "name": "stdout",
          "text": [
            "{'В «Шиннике» рассказали о состоянии команды после драки с футболистами с Украины': {'news_date': '12:04',\n",
            "                                                                                     'news_link': 'https://lenta.ru/news/2023/02/17/draka_football/'},\n",
            " 'В Армении оценили возможность проведения встречи Алиева и Пашиняна в Мюнхене': {'news_date': '12:14',\n",
            "                                                                                  'news_link': 'https://lenta.ru/news/2023/02/17/meeting/'},\n",
            " 'В Госдуму внесли проект закона о «детях СВО»': {'news_date': '12:04',\n",
            "                                                  'news_link': 'https://lenta.ru/news/2023/02/17/detisvo/'},\n",
            " 'Журналист Херш рассказал о последствиях от подрыва «Северных потоков» для США': {'news_date': '12:12',\n",
            "                                                                                   'news_link': 'https://lenta.ru/news/2023/02/17/sevpotokkk/'},\n",
            " 'Захарова обвинила США и НАТО в трусости и цинизме из-за украинского конфликта': {'news_date': '12:00',\n",
            "                                                                                   'news_link': 'https://lenta.ru/news/2023/02/17/zakhar/'},\n",
            " 'Ирина Шейк снялась в рекламе в пиджаке на голое тело': {'news_date': '12:01',\n",
            "                                                          'news_link': 'https://lenta.ru/news/2023/02/17/irishkachiki/'},\n",
            " 'Мужчину со взрывным устройством задержали на Курском вокзале в Москве': {'news_date': '12:03',\n",
            "                                                                           'news_link': 'https://moslenta.ru/news/city/vzryvnoe-ustroistvo-17-02-2023.htm/'},\n",
            " 'На Западе рассказали о необходимости смены военной доктрины из-за СВО': {'news_date': '11:58',\n",
            "                                                                           'news_link': 'https://lenta.ru/news/2023/02/17/docrtine/'},\n",
            " 'На московском вокзале у мужчины обнаружили взрыватели и мины': {'news_date': '11:57',\n",
            "                                                                  'news_link': 'https://lenta.ru/news/2023/02/17/kersvoks/'},\n",
            " 'Российский топливозаправщик с дополнительной защитой попал на видео': {'news_date': '12:12',\n",
            "                                                                         'news_link': 'https://lenta.ru/news/2023/02/17/kamaz/'},\n",
            " 'Россиянам назвали способы сэкономить на ремонте': {'news_date': '12:13',\n",
            "                                                     'news_link': 'https://lenta.ru/news/2023/02/17/remont_pay/'},\n",
            " 'Турции предрекли еще одно сокрушительное землетрясение': {'news_date': '11:36',\n",
            "                                                            'news_link': 'https://lenta.ru/news/2023/02/17/earthwake/'}}\n",
            "{'В России начались испытания беспилотника ТрАМП': {'news_link': 'https://news.mail.ru/incident/55095856/'},\n",
            " 'В\\xa0Думе назвали сроки замены иностранных слов на\\xa0русские аналоги': {'news_link': 'https://news.mail.ru/politics/55095458/'},\n",
            " 'В\\xa0Калужской области предотвратили теракт на\\xa0химпредприятии': {'news_link': 'https://news.mail.ru/incident/55098818/'},\n",
            " 'В\\xa0Турции и\\xa0Сирии произошли землетрясения магнитудой более\\xa05': {'news_link': 'https://news.mail.ru/incident/55094939/'},\n",
            " 'Генерал Мордвичев сменил Лапина на\\xa0посту командующего ЦВО': {'news_link': 'https://news.mail.ru/incident/55098754/'},\n",
            " 'Посольство России отреагировало на заявление Нуланд о Крыме': {'news_link': 'https://news.mail.ru/politics/55096270/'},\n",
            " 'СМИ: Киев потерял почти всех боевых пилотов': {'news_link': 'https://news.mail.ru/incident/55096792/'},\n",
            " 'Фото: первые снимки затонувшего «Титаника» после крушения': {'news_link': 'https://news.mail.ru/society/55089153/'}}\n"
          ]
        }
      ],
      "source": [
        "from pprint import pprint\n",
        "from lxml import html\n",
        "import requests\n",
        "\n",
        "# Функция принимает параметры в виде словаря с полями для url\n",
        "# словарем для парсинга и базового пути к блоку новостей, так как они у всех\n",
        "# разные. Возвращает словарь с названием новости и параметрами, \n",
        "# если они есть(дата, источник, ссылка).\n",
        "# Сайт dzen.ru победить пока не удалось, он распознает парсинг и выкатывает страницу с \n",
        "# капчей. У сайта mail.ru новости в заголовке формируются динамически, скорее \n",
        "# всего с помощью JavaScript, поэтому спарсил news.mail.ru\n",
        "\n",
        "def parse_news(params):\n",
        "  parse_dict = {key: val for key, val in params[\"parse_dict\"].items() if val is not None}\n",
        "\n",
        "  reply = requests.get(params[\"url\"], headers=params[\"headers\"])\n",
        "  dom = html.fromstring(reply.text)\n",
        "  news = dom.xpath(params[\"base_path\"])\n",
        "\n",
        "  result = {}\n",
        "  for element in news:\n",
        "    new_dict = {}\n",
        "    for key, req in parse_dict.items():\n",
        "      new_dict[key] = str(element.xpath(req)[0])\n",
        "    if new_dict['news_link'].startswith('/'):\n",
        "      new_dict['news_link'] = params[\"url\"] + new_dict['news_link']\n",
        "    result[new_dict['news_name']] = new_dict\n",
        "    del result[new_dict[\"news_name\"]][\"news_name\"]\n",
        "  return result   \n",
        "\n",
        "keys = (\"news_source\", \"news_name\", \"news_link\", \"news_date\")\n",
        "\n",
        "lenta_params = {\n",
        "    \"url\": \"https://lenta.ru\",\n",
        "    \"base_path\": \"//div[@class='topnews']/div/a\",\n",
        "    \"headers\": {\n",
        "        \"User-agent\": \"Mozilla/5.0 (Windows NT 10.0; Win64; x64) AppleWebKit/537.36 (KHTML, like Gecko) Chrome/109.0.0.0 Safari/537.36\",\n",
        "    },\n",
        "    \"parse_dict\": {\n",
        "        \"news_source\": None,\n",
        "        \"news_name\": \"./div/span[@class='card-mini__title']/text()\",\n",
        "        \"news_link\": \"./@href\",\n",
        "        \"news_date\": \"./div/div/time/text()\"\n",
        "    }   \n",
        "}\n",
        "\n",
        "mail_params = {\n",
        "    \"url\": \"https://news.mail.ru\",\n",
        "    \"base_path\": '//ul[@class=\"list list_type_square list_half js-module\"]/li',\n",
        "    \"headers\": {\n",
        "        \"User-agent\": \"Mozilla/5.0 (Windows NT 10.0; Win64; x64) AppleWebKit/537.36 (KHTML, like Gecko) Chrome/109.0.0.0 Safari/537.36\",\n",
        "    },\n",
        "    \"parse_dict\": {\n",
        "        \"news_source\": None,\n",
        "        \"news_name\": './span/a/text()',\n",
        "        \"news_link\": './span/a/@href',\n",
        "        \"news_date\": None\n",
        "    }       \n",
        "}\n",
        "\n",
        "res = parse_news(lenta_params)\n",
        "pprint(res)\n",
        "res = parse_news(mail_params)\n",
        "pprint(res)\n"
      ]
    },
    {
      "cell_type": "code",
      "source": [],
      "metadata": {
        "id": "pRX2dJ1rjjv3"
      },
      "execution_count": null,
      "outputs": []
    }
  ]
}