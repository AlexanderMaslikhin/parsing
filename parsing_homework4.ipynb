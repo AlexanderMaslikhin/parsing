{
  "nbformat": 4,
  "nbformat_minor": 0,
  "metadata": {
    "colab": {
      "provenance": [],
      "authorship_tag": "ABX9TyPnhhkCI/y6jfn68VUNAfHW",
      "include_colab_link": true
    },
    "kernelspec": {
      "name": "python3",
      "display_name": "Python 3"
    },
    "language_info": {
      "name": "python"
    }
  },
  "cells": [
    {
      "cell_type": "markdown",
      "metadata": {
        "id": "view-in-github",
        "colab_type": "text"
      },
      "source": [
        "<a href=\"https://colab.research.google.com/github/AlexanderMaslikhin/parsing/blob/homework4/parsing_homework4.ipynb\" target=\"_parent\"><img src=\"https://colab.research.google.com/assets/colab-badge.svg\" alt=\"Open In Colab\"/></a>"
      ]
    },
    {
      "cell_type": "code",
      "execution_count": 2,
      "metadata": {
        "id": "AGVk4gGwr_Dp"
      },
      "outputs": [],
      "source": [
        "from bs4 import BeautifulSoup as bs\n",
        "import requests\n",
        "import urllib.parse as up\n",
        "from pprint import pprint\n",
        "import re\n",
        "import json"
      ]
    },
    {
      "cell_type": "code",
      "source": [
        "def get_vacancies_hh(vacancy, pages_count=1):\n",
        "  vlist = []\n",
        "  headers = {\n",
        "      \"User-Agent\": \"Mozilla/5.0 (Windows NT 10.0; Win64; x64) AppleWebKit/537.36 (KHTML, like Gecko) Chrome/110.0.0.0 Safari/537.36\"\n",
        "  }\n",
        "  for p in range(pages_count):\n",
        "    if not p:\n",
        "        url = f\"https://hh.ru/search/vacancy?text={up.quote_plus(vacancy, safe='')}&from=suggest_post&area=1\"\n",
        "    else:\n",
        "        url = f\"https://hh.ru/search/vacancy?text={up.quote_plus(vacancy, safe='')}&from=suggest_post&area=1&page={p}&hhtmFrom=vacancy_search_list\"\n",
        "    response = requests.get(url, headers=headers)\n",
        "    dom = bs(response.text, \"html.parser\")\n",
        "    v_list_on_page = dom.select(\"div.vacancy-serp-item-body\")\n",
        "\n",
        "    for vacansy_block in v_list_on_page:\n",
        "        v_dict = {}\n",
        "        a_header = vacansy_block.select(\"a.serp-item__title\")\n",
        "        v_dict['name'] = a_header[0].text\n",
        "        v_dict['link'], _ = a_header[0][\"href\"].split('?')\n",
        "        salary_block = vacansy_block.select(\"span.bloko-header-section-3\")\n",
        "\n",
        "        if salary_block:\n",
        "          salary = {}\n",
        "          salary_text = re.sub(r'\\s', '', salary_block[0].text)\n",
        "          if salary_text.startswith('от'):\n",
        "            m = re.search(r'\\d+', salary_text)\n",
        "            salary['from'] = int(m.group(0))\n",
        "            salary['currency'] = re.sub(r'\\d+', '', salary_text[2:])\n",
        "          elif salary_text.startswith('до'):\n",
        "            m = re.search(r'\\d+', salary_text)\n",
        "            salary['to'] = int(m.group(0))\n",
        "            salary['currency'] = re.sub(r'\\d+', '', salary_text[2:])\n",
        "          else:\n",
        "            salary['from'], salary['to'] = map(int, re.split(r'\\D+', salary_text)[:-1])\n",
        "            salary['currency'] = re.sub(r'\\d+–\\d+', '', salary_text)\n",
        "          v_dict['salary'] = salary\n",
        "        v_dict['employer'] = vacansy_block.select('a.bloko-link.bloko-link_kind-tertiary')[0].text\n",
        "        v_dict['place'] = vacansy_block.find('div', attrs={\"data-qa\": \"vacancy-serp__vacancy-address\"}).text\n",
        "\n",
        "        vlist.append(v_dict)\n",
        "\n",
        "  return vlist    \n",
        "\n",
        "vacancies = get_vacancies_hh(\"Python разработчик\", pages_count=5)\n"
      ],
      "metadata": {
        "id": "cPr9hsOKsJ44"
      },
      "execution_count": 3,
      "outputs": []
    },
    {
      "cell_type": "markdown",
      "source": [
        "1. Развернуть у себя на компьютере/виртуальной машине/хостинге MongoDB и реализовать функцию, которая будет добавлять только новые вакансии/продукты в вашу базу."
      ],
      "metadata": {
        "id": "zrqCgviK2A2d"
      }
    },
    {
      "cell_type": "code",
      "source": [
        "from pymongo import MongoClient\n",
        "from pymongo.errors import DuplicateKeyError"
      ],
      "metadata": {
        "id": "WECuvURB0nIp"
      },
      "execution_count": 6,
      "outputs": []
    },
    {
      "cell_type": "code",
      "source": [
        "def db_insert_new_vacancies(v_list, collection):\n",
        "  vacancies_added = 0\n",
        "  for v in v_list:\n",
        "    v[\"_id\"] = v[\"link\"].split(\"/\")[-1]\n",
        "    try:\n",
        "      collection.insert_one(v)\n",
        "      vacancies_added += 1\n",
        "    except DuplicateKeyError:\n",
        "      pass\n",
        "  return vacancies_added\n",
        "\n",
        "  "
      ],
      "metadata": {
        "id": "H7Bav2aF0C6-"
      },
      "execution_count": 7,
      "outputs": []
    },
    {
      "cell_type": "code",
      "source": [
        "client = MongoClient(\"37.140.199.115:27017\")\n",
        "db = client[\"vacancies\"]\n",
        "collection = db[\"hh\"]\n",
        "added = db_insert_new_vacancies(vacancies, collection)\n",
        "print(f'{added} new vacancies was inserted')"
      ],
      "metadata": {
        "colab": {
          "base_uri": "https://localhost:8080/"
        },
        "id": "k2RIQlY-1-NR",
        "outputId": "e1a9c329-1ee4-4683-f6df-5f37d7cf9af6"
      },
      "execution_count": 19,
      "outputs": [
        {
          "output_type": "stream",
          "name": "stdout",
          "text": [
            "94 new vacancies was inserted\n"
          ]
        }
      ]
    },
    {
      "cell_type": "code",
      "source": [
        "# добавим еще 2 страницы в парсинг \n",
        "new_vacancies = get_vacancies_hh(\"Python разработчик\", pages_count=7)\n",
        "added = db_insert_new_vacancies(new_vacancies, collection)\n",
        "print(f'{added} new vacancies was inserted')"
      ],
      "metadata": {
        "colab": {
          "base_uri": "https://localhost:8080/"
        },
        "id": "zDyIcIZ83nWM",
        "outputId": "fa3cb5ed-fb37-451f-bac1-00375b38d834"
      },
      "execution_count": 20,
      "outputs": [
        {
          "output_type": "stream",
          "name": "stdout",
          "text": [
            "75 new vacancies was inserted\n"
          ]
        }
      ]
    },
    {
      "cell_type": "code",
      "source": [
        "collection.find_one()"
      ],
      "metadata": {
        "colab": {
          "base_uri": "https://localhost:8080/"
        },
        "id": "Zbu8pv8j5ZMo",
        "outputId": "1c34d916-fd3b-4637-acea-bb3e6ec0edee"
      },
      "execution_count": 21,
      "outputs": [
        {
          "output_type": "execute_result",
          "data": {
            "text/plain": [
              "{'_id': '77147428',\n",
              " 'name': 'Backend программист (Python)',\n",
              " 'link': 'https://hh.ru/vacancy/77147428',\n",
              " 'salary': {'from': 120000, 'currency': 'руб.'},\n",
              " 'employer': 'MANGO FZCO',\n",
              " 'place': 'Москва'}"
            ]
          },
          "metadata": {},
          "execution_count": 21
        }
      ]
    },
    {
      "cell_type": "markdown",
      "source": [
        "2. Написать функцию, которая производит поиск и выводит на экран вакансии с заработной платой больше введённой суммы (необходимо анализировать оба поля зарплаты). Для тех, кто выполнил задание с Росконтролем - напишите запрос для поиска продуктов с рейтингом не ниже введенного или качеством не ниже введенного (то есть цифра вводится одна, а запрос проверяет оба поля)."
      ],
      "metadata": {
        "id": "7S1X-lkm6bBV"
      }
    },
    {
      "cell_type": "code",
      "source": [
        "from pprint import pprint\n",
        "\n",
        "def db_search_salary(more_then, collection):\n",
        "  return collection.find({'$or': [{'salary.from': {'$gte': more_then}}, {'salary.to': {'$gte': more_then}}]})\n",
        "\n",
        "vacancies_more_200 = db_search_salary(200000, collection)\n",
        "for v in vacancies_more_200:\n",
        "  pprint(v)"
      ],
      "metadata": {
        "colab": {
          "base_uri": "https://localhost:8080/"
        },
        "id": "IaYZSWXX6flR",
        "outputId": "d94a0466-bee8-46d6-98cf-ae76f479d718"
      },
      "execution_count": 26,
      "outputs": [
        {
          "output_type": "stream",
          "name": "stdout",
          "text": [
            "{'_id': '77091465',\n",
            " 'employer': 'ООО\\xa0Нетопия',\n",
            " 'link': 'https://hh.ru/vacancy/77091465',\n",
            " 'name': 'Разработчик Python',\n",
            " 'place': 'Москва',\n",
            " 'salary': {'currency': 'руб.', 'from': 200000, 'to': 250000}}\n",
            "{'_id': '70705466',\n",
            " 'employer': 'ООО\\xa0Фабрика Решений',\n",
            " 'link': 'https://hh.ru/vacancy/70705466',\n",
            " 'name': 'Python-разработчик (Django, DRF)',\n",
            " 'place': 'Москва',\n",
            " 'salary': {'currency': 'руб.', 'from': 60000, 'to': 220000}}\n",
            "{'_id': '72216524',\n",
            " 'employer': 'ООО\\xa0Перфект Системс',\n",
            " 'link': 'https://hh.ru/vacancy/72216524',\n",
            " 'name': 'Python Backend Developer / WEB - разработчик',\n",
            " 'place': 'Москва',\n",
            " 'salary': {'currency': 'руб.', 'from': 300000, 'to': 450000}}\n",
            "{'_id': '71147348',\n",
            " 'employer': 'ООО\\xa0Дубайт',\n",
            " 'link': 'https://hh.ru/vacancy/71147348',\n",
            " 'name': 'Разработчик C# / Python',\n",
            " 'place': 'Москва, Проспект Вернадского и еще\\xa02\\xa0',\n",
            " 'salary': {'currency': 'руб.', 'from': 300000, 'to': 500000}}\n",
            "{'_id': '77179552',\n",
            " 'employer': 'ООО\\xa024 часа ТВ',\n",
            " 'link': 'https://hh.ru/vacancy/77179552',\n",
            " 'name': 'Senior Python разработчик',\n",
            " 'place': 'Москва, Семеновская',\n",
            " 'salary': {'currency': 'руб.', 'from': 300000}}\n",
            "{'_id': '77032189',\n",
            " 'employer': 'ИП\\xa0Мамаева Ирина Анатольевна',\n",
            " 'link': 'https://hh.ru/vacancy/77032189',\n",
            " 'name': 'Python разработчик',\n",
            " 'place': 'Москва',\n",
            " 'salary': {'currency': 'руб.', 'to': 200000}}\n",
            "{'_id': '77337811',\n",
            " 'employer': 'ООО\\xa0МСК ГРУПП ИС',\n",
            " 'link': 'https://hh.ru/vacancy/77337811',\n",
            " 'name': 'Lead Python developer',\n",
            " 'place': 'Москва',\n",
            " 'salary': {'currency': 'руб.', 'to': 500000}}\n",
            "{'_id': '77071763',\n",
            " 'employer': 'Ассоциация IPChain',\n",
            " 'link': 'https://hh.ru/vacancy/77071763',\n",
            " 'name': 'Python разработчик (аккредитованная компания)',\n",
            " 'place': 'Москва',\n",
            " 'salary': {'currency': 'руб.', 'from': 270000}}\n",
            "{'_id': '77148120',\n",
            " 'employer': 'Flipper Devices',\n",
            " 'link': 'https://hh.ru/vacancy/77148120',\n",
            " 'name': 'Middle Python Developer (Backend / Server side)',\n",
            " 'place': 'Москва',\n",
            " 'salary': {'currency': 'руб.', 'from': 140000, 'to': 220000}}\n",
            "{'_id': '77089579',\n",
            " 'employer': 'EFIX GROUP',\n",
            " 'link': 'https://hh.ru/vacancy/77089579',\n",
            " 'name': 'Разработчик Python',\n",
            " 'place': 'Москва, Гражданская и еще\\xa02\\xa0',\n",
            " 'salary': {'currency': 'руб.', 'from': 200000}}\n",
            "{'_id': '76768230',\n",
            " 'employer': 'WebGears Services',\n",
            " 'link': 'https://hh.ru/vacancy/76768230',\n",
            " 'name': 'Python (Django) Backend developer',\n",
            " 'place': 'Москва',\n",
            " 'salary': {'currency': 'руб.', 'to': 280000}}\n",
            "{'_id': '77276110',\n",
            " 'employer': 'AGIMA',\n",
            " 'link': 'https://hh.ru/vacancy/77276110',\n",
            " 'name': 'Python-разработчик (Middle)',\n",
            " 'place': 'Москва, Чеховская',\n",
            " 'salary': {'currency': 'руб.', 'to': 240000}}\n",
            "{'_id': '76785097',\n",
            " 'employer': 'Enjoypro',\n",
            " 'link': 'https://hh.ru/vacancy/76785097',\n",
            " 'name': 'Программист Python',\n",
            " 'place': 'Москва',\n",
            " 'salary': {'currency': 'руб.', 'to': 240000}}\n",
            "{'_id': '76921562',\n",
            " 'employer': 'Платформа Больших Данных',\n",
            " 'link': 'https://hh.ru/vacancy/76921562',\n",
            " 'name': 'Data-engeneer (Middle)',\n",
            " 'place': 'Москва',\n",
            " 'salary': {'currency': 'руб.', 'from': 250000, 'to': 300000}}\n",
            "{'_id': '77149775',\n",
            " 'employer': 'ООО\\xa0АЙТИ.СПЕЙС',\n",
            " 'link': 'https://hh.ru/vacancy/77149775',\n",
            " 'name': 'Программист Python',\n",
            " 'place': 'Москва',\n",
            " 'salary': {'currency': 'руб.', 'to': 250000}}\n",
            "{'_id': '77208642',\n",
            " 'employer': 'ИП\\xa0Мамаева Ирина Анатольевна',\n",
            " 'link': 'https://hh.ru/vacancy/77208642',\n",
            " 'name': 'Data Scientist middle+/Senior',\n",
            " 'place': 'Москва',\n",
            " 'salary': {'currency': 'руб.', 'from': 250000, 'to': 350000}}\n",
            "{'_id': '76345518',\n",
            " 'employer': 'ООО\\xa0Инновационный центр КАМАЗ',\n",
            " 'link': 'https://hh.ru/vacancy/76345518',\n",
            " 'name': 'Backend разработчик Middle +, Senior (Python)',\n",
            " 'place': 'Москва',\n",
            " 'salary': {'currency': 'руб.', 'from': 200000}}\n",
            "{'_id': '77329747',\n",
            " 'employer': 'ИП\\xa0Мамаева Ирина Анатольевна',\n",
            " 'link': 'https://hh.ru/vacancy/77329747',\n",
            " 'name': 'Data engineer (middle+)',\n",
            " 'place': 'Москва',\n",
            " 'salary': {'currency': 'руб.', 'to': 350000}}\n",
            "{'_id': '77156084',\n",
            " 'employer': 'ООО\\xa0Нектар',\n",
            " 'link': 'https://hh.ru/vacancy/77156084',\n",
            " 'name': 'Разработчик Perl',\n",
            " 'place': 'Москва',\n",
            " 'salary': {'currency': 'руб.', 'from': 200000, 'to': 300000}}\n",
            "{'_id': '77223951',\n",
            " 'employer': 'Reputation House',\n",
            " 'link': 'https://hh.ru/vacancy/77223951',\n",
            " 'name': 'Senior Python+Go developer',\n",
            " 'place': 'Москва',\n",
            " 'salary': {'currency': 'руб.', 'from': 300000, 'to': 350000}}\n",
            "{'_id': '77216110',\n",
            " 'employer': 'JetLend',\n",
            " 'link': 'https://hh.ru/vacancy/77216110',\n",
            " 'name': 'Python Backend Developer (Senior/Remote)',\n",
            " 'place': 'Москва',\n",
            " 'salary': {'currency': 'руб.', 'to': 300000}}\n",
            "{'_id': '77216209',\n",
            " 'employer': 'JetLend',\n",
            " 'link': 'https://hh.ru/vacancy/77216209',\n",
            " 'name': 'Python Backend Developer (Senior/Remote)',\n",
            " 'place': 'Москва',\n",
            " 'salary': {'currency': 'руб.', 'to': 300000}}\n",
            "{'_id': '76565595',\n",
            " 'employer': 'ООО\\xa0Retail Rocket',\n",
            " 'link': 'https://hh.ru/vacancy/76565595',\n",
            " 'name': 'Senior Backend Developer (Python)',\n",
            " 'place': 'Москва',\n",
            " 'salary': {'currency': 'руб.', 'to': 350000}}\n",
            "{'_id': '77060239',\n",
            " 'employer': 'JetLend',\n",
            " 'link': 'https://hh.ru/vacancy/77060239',\n",
            " 'name': 'Python Backend Developer (Senior/Remote)',\n",
            " 'place': 'Москва',\n",
            " 'salary': {'currency': 'руб.', 'to': 300000}}\n",
            "{'_id': '77061996',\n",
            " 'employer': 'AlfaBit.Group',\n",
            " 'link': 'https://hh.ru/vacancy/77061996',\n",
            " 'name': 'Разработчик Python / Django (Middle)',\n",
            " 'place': 'Москва',\n",
            " 'salary': {'currency': 'руб.', 'from': 150000, 'to': 200000}}\n",
            "{'_id': '76941049',\n",
            " 'employer': 'ООО\\xa0Эдшот',\n",
            " 'link': 'https://hh.ru/vacancy/76941049',\n",
            " 'name': 'Ведущий full-stack разработчик (Python, JS)',\n",
            " 'place': 'Москва',\n",
            " 'salary': {'currency': 'руб.', 'from': 250000, 'to': 350000}}\n",
            "{'_id': '76671759',\n",
            " 'employer': 'StormWall™',\n",
            " 'link': 'https://hh.ru/vacancy/76671759',\n",
            " 'name': 'Middle/Senior Python разработчик (удаленно)',\n",
            " 'place': 'Москва',\n",
            " 'salary': {'currency': 'руб.', 'to': 250000}}\n",
            "{'_id': '76743268',\n",
            " 'employer': 'ИП\\xa0Калистый Кирилл Григорьевич',\n",
            " 'link': 'https://hh.ru/vacancy/76743268',\n",
            " 'name': 'Научный сотрудник (математик программирующий)',\n",
            " 'place': 'Москва',\n",
            " 'salary': {'currency': 'руб.', 'from': 100000, 'to': 300000}}\n",
            "{'_id': '74252840',\n",
            " 'employer': 'ПАО\\xa0«МТС» ',\n",
            " 'link': 'https://hh.ru/vacancy/74252840',\n",
            " 'name': 'Senior Backend Python Developer платформа анализа и синтеза речи '\n",
            "         '(MTS AI)',\n",
            " 'place': 'Москва, Курская и еще\\xa02\\xa0',\n",
            " 'salary': {'currency': 'руб.', 'to': 350000}}\n",
            "{'_id': '76843545',\n",
            " 'employer': 'S8 Capital',\n",
            " 'link': 'https://hh.ru/vacancy/76843545',\n",
            " 'name': 'Senior Python developer',\n",
            " 'place': 'Москва',\n",
            " 'salary': {'currency': 'руб.', 'to': 400000}}\n",
            "{'_id': '76797183',\n",
            " 'employer': 'Сбер. IT',\n",
            " 'link': 'https://hh.ru/vacancy/76797183',\n",
            " 'name': 'Senior Python developer',\n",
            " 'place': 'Москва, Кожуховская',\n",
            " 'salary': {'currency': 'руб.', 'from': 350000}}\n",
            "{'_id': '76718141',\n",
            " 'employer': 'АО\\xa0Точных Приборов, НИИ',\n",
            " 'link': 'https://hh.ru/vacancy/76718141',\n",
            " 'name': 'Разработчик Python',\n",
            " 'place': 'Москва, Ботанический сад и еще\\xa01\\xa0',\n",
            " 'salary': {'currency': 'руб.', 'from': 120000, 'to': 300000}}\n",
            "{'_id': '76889492',\n",
            " 'employer': 'АО\\xa0СмартРейс',\n",
            " 'link': 'https://hh.ru/vacancy/76889492',\n",
            " 'name': 'Backend Developer (Python) Middle+ / Team Lead',\n",
            " 'place': 'Москва',\n",
            " 'salary': {'currency': 'руб.', 'from': 150000, 'to': 300000}}\n",
            "{'_id': '76711288',\n",
            " 'employer': 'HR Prime',\n",
            " 'link': 'https://hh.ru/vacancy/76711288',\n",
            " 'name': 'Python / BE Developer',\n",
            " 'place': 'Москва',\n",
            " 'salary': {'currency': 'руб.', 'from': 170000, 'to': 290000}}\n",
            "{'_id': '76856894',\n",
            " 'employer': 'Агентство 21 век, КЦ',\n",
            " 'link': 'https://hh.ru/vacancy/76856894',\n",
            " 'name': 'Lead Python developer',\n",
            " 'place': 'Москва',\n",
            " 'salary': {'currency': 'руб.', 'to': 400000}}\n",
            "{'_id': '76486868',\n",
            " 'employer': 'SberTech',\n",
            " 'link': 'https://hh.ru/vacancy/76486868',\n",
            " 'name': 'Build system Python developer',\n",
            " 'place': 'Москва, Тульская',\n",
            " 'salary': {'currency': 'руб.', 'from': 250000}}\n"
          ]
        }
      ]
    },
    {
      "cell_type": "code",
      "source": [],
      "metadata": {
        "id": "ywFgIIpU6yGx"
      },
      "execution_count": null,
      "outputs": []
    }
  ]
}